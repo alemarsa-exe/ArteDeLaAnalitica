{
 "cells": [
  {
   "cell_type": "markdown",
   "id": "07f1aa2c",
   "metadata": {},
   "source": [
    "### En esta actividad trabajarás con el conjunto de datos asignado para el reto. Tienes que replicar los pasos vistos durante las horas de clase en un conjunto de datos diferente."
   ]
  },
  {
   "cell_type": "markdown",
   "id": "e1f4ceef",
   "metadata": {},
   "source": [
    "### Alejandro Mariacca Santin - A01654102"
   ]
  },
  {
   "cell_type": "markdown",
   "id": "7ef66bbd",
   "metadata": {},
   "source": [
    "### 1. Carga los datos usando tu lector de csv o con pandas. Es recomendable hacerlo con pandas."
   ]
  },
  {
   "cell_type": "code",
   "execution_count": 1,
   "id": "c4fa902e",
   "metadata": {},
   "outputs": [],
   "source": [
    "import pandas as pd\n",
    "import matplotlib.pyplot as plt\n",
    "import numpy as np\n",
    "\n",
    "data = pd.read_csv(\"avocado.csv\") "
   ]
  },
  {
   "cell_type": "markdown",
   "id": "9e8daa07",
   "metadata": {},
   "source": [
    "### 2. Verifica la cantidad de datos que tienes, las variables que contiene cada vector de datos e identifica el tipo de variables."
   ]
  },
  {
   "cell_type": "code",
   "execution_count": 2,
   "id": "b001c720",
   "metadata": {},
   "outputs": [
    {
     "name": "stdout",
     "output_type": "stream",
     "text": [
      "Número de datos: 18249\n",
      "\n",
      "Variables de los vectores y sus tipos de datos: \n"
     ]
    },
    {
     "data": {
      "text/plain": [
       "Unnamed: 0        int64\n",
       "Date             object\n",
       "AveragePrice    float64\n",
       "Total Volume    float64\n",
       "4046            float64\n",
       "4225            float64\n",
       "4770            float64\n",
       "Total Bags      float64\n",
       "Small Bags      float64\n",
       "Large Bags      float64\n",
       "XLarge Bags     float64\n",
       "type             object\n",
       "year              int64\n",
       "region           object\n",
       "dtype: object"
      ]
     },
     "execution_count": 2,
     "metadata": {},
     "output_type": "execute_result"
    }
   ],
   "source": [
    "df = pd.DataFrame(data)\n",
    "\n",
    "print(\"Número de datos:\", len(df.index))\n",
    "\n",
    "print(\"\\nVariables de los vectores y sus tipos de datos: \")\n",
    "df.dtypes"
   ]
  },
  {
   "cell_type": "markdown",
   "id": "6736c689",
   "metadata": {},
   "source": [
    "### 3. Analiza las variables para saber qué representa cada una y en qué rangos se encuentran. Si la descripción del problema no te lo indica, utiliza el máximo y el mínimo para encontrarlo."
   ]
  },
  {
   "cell_type": "markdown",
   "id": "400243ea",
   "metadata": {},
   "source": [
    "##### Análisis"
   ]
  },
  {
   "cell_type": "markdown",
   "id": "f1f8da16",
   "metadata": {},
   "source": [
    "A pesar de no contar con contexto suficiente, es posible deducir algunos de los significados de las variables. En general, las variables están relacionadas con los aguacates, tal y como el nombre del archivo dice. Se pueden encontrar entre otras cosas, volumen total de aguacates, tipos de aguacates por código, tipos de bolsas y el año. Lamentablemente no se tiene conocimiento de la función de todas las variables. En el caso específico de la variable \"Unnamed: 0\", se deconoce por completo su propótiso. \n",
    "\n",
    "Como se verá a continuación, el rango varía colosalmente entre la mayoría de las variables."
   ]
  },
  {
   "cell_type": "markdown",
   "id": "0c8ee54a",
   "metadata": {},
   "source": [
    "##### Mínimos y máximos"
   ]
  },
  {
   "cell_type": "code",
   "execution_count": 3,
   "id": "d45275c0",
   "metadata": {
    "scrolled": true
   },
   "outputs": [
    {
     "data": {
      "text/html": [
       "<div>\n",
       "<style scoped>\n",
       "    .dataframe tbody tr th:only-of-type {\n",
       "        vertical-align: middle;\n",
       "    }\n",
       "\n",
       "    .dataframe tbody tr th {\n",
       "        vertical-align: top;\n",
       "    }\n",
       "\n",
       "    .dataframe thead th {\n",
       "        text-align: right;\n",
       "    }\n",
       "</style>\n",
       "<table border=\"1\" class=\"dataframe\">\n",
       "  <thead>\n",
       "    <tr style=\"text-align: right;\">\n",
       "      <th></th>\n",
       "      <th>Unnamed: 0</th>\n",
       "      <th>AveragePrice</th>\n",
       "      <th>Total Volume</th>\n",
       "      <th>4046</th>\n",
       "      <th>4225</th>\n",
       "      <th>4770</th>\n",
       "      <th>Total Bags</th>\n",
       "      <th>Small Bags</th>\n",
       "      <th>Large Bags</th>\n",
       "      <th>XLarge Bags</th>\n",
       "      <th>year</th>\n",
       "    </tr>\n",
       "  </thead>\n",
       "  <tbody>\n",
       "    <tr>\n",
       "      <th>min</th>\n",
       "      <td>0.0</td>\n",
       "      <td>0.44</td>\n",
       "      <td>84.56</td>\n",
       "      <td>0.00</td>\n",
       "      <td>0.00</td>\n",
       "      <td>0.00</td>\n",
       "      <td>0.00</td>\n",
       "      <td>0.0</td>\n",
       "      <td>0.00</td>\n",
       "      <td>0.00</td>\n",
       "      <td>2015.0</td>\n",
       "    </tr>\n",
       "    <tr>\n",
       "      <th>max</th>\n",
       "      <td>52.0</td>\n",
       "      <td>3.25</td>\n",
       "      <td>62505646.52</td>\n",
       "      <td>22743616.17</td>\n",
       "      <td>20470572.61</td>\n",
       "      <td>2546439.11</td>\n",
       "      <td>19373134.37</td>\n",
       "      <td>13384586.8</td>\n",
       "      <td>5719096.61</td>\n",
       "      <td>551693.65</td>\n",
       "      <td>2018.0</td>\n",
       "    </tr>\n",
       "  </tbody>\n",
       "</table>\n",
       "</div>"
      ],
      "text/plain": [
       "     Unnamed: 0  AveragePrice  Total Volume         4046         4225  \\\n",
       "min         0.0          0.44         84.56         0.00         0.00   \n",
       "max        52.0          3.25   62505646.52  22743616.17  20470572.61   \n",
       "\n",
       "           4770   Total Bags  Small Bags  Large Bags  XLarge Bags    year  \n",
       "min        0.00         0.00         0.0        0.00         0.00  2015.0  \n",
       "max  2546439.11  19373134.37  13384586.8  5719096.61    551693.65  2018.0  "
      ]
     },
     "execution_count": 3,
     "metadata": {},
     "output_type": "execute_result"
    }
   ],
   "source": [
    "df.describe().loc[['min','max']]\n"
   ]
  },
  {
   "cell_type": "markdown",
   "id": "c465409d",
   "metadata": {},
   "source": [
    "##### Comparación del máximo precio promedio por año"
   ]
  },
  {
   "cell_type": "markdown",
   "id": "2d056288",
   "metadata": {},
   "source": [
    "Obtener precios mayores por año"
   ]
  },
  {
   "cell_type": "code",
   "execution_count": 4,
   "id": "d4c903f6",
   "metadata": {},
   "outputs": [
    {
     "data": {
      "text/html": [
       "<div>\n",
       "<style scoped>\n",
       "    .dataframe tbody tr th:only-of-type {\n",
       "        vertical-align: middle;\n",
       "    }\n",
       "\n",
       "    .dataframe tbody tr th {\n",
       "        vertical-align: top;\n",
       "    }\n",
       "\n",
       "    .dataframe thead th {\n",
       "        text-align: right;\n",
       "    }\n",
       "</style>\n",
       "<table border=\"1\" class=\"dataframe\">\n",
       "  <thead>\n",
       "    <tr style=\"text-align: right;\">\n",
       "      <th></th>\n",
       "      <th>Unnamed: 0</th>\n",
       "      <th>Date</th>\n",
       "      <th>AveragePrice</th>\n",
       "      <th>Total Volume</th>\n",
       "      <th>4046</th>\n",
       "      <th>4225</th>\n",
       "      <th>4770</th>\n",
       "      <th>Total Bags</th>\n",
       "      <th>Small Bags</th>\n",
       "      <th>Large Bags</th>\n",
       "      <th>XLarge Bags</th>\n",
       "      <th>type</th>\n",
       "      <th>year</th>\n",
       "      <th>region</th>\n",
       "    </tr>\n",
       "  </thead>\n",
       "  <tbody>\n",
       "    <tr>\n",
       "      <th>11320</th>\n",
       "      <td>10</td>\n",
       "      <td>2015-10-18</td>\n",
       "      <td>2.79</td>\n",
       "      <td>12642.11</td>\n",
       "      <td>961.55</td>\n",
       "      <td>11680.56</td>\n",
       "      <td>0.0</td>\n",
       "      <td>0.00</td>\n",
       "      <td>0.00</td>\n",
       "      <td>0.00</td>\n",
       "      <td>0.0</td>\n",
       "      <td>organic</td>\n",
       "      <td>2015</td>\n",
       "      <td>SanFrancisco</td>\n",
       "    </tr>\n",
       "    <tr>\n",
       "      <th>14125</th>\n",
       "      <td>8</td>\n",
       "      <td>2016-10-30</td>\n",
       "      <td>3.25</td>\n",
       "      <td>16700.94</td>\n",
       "      <td>2325.93</td>\n",
       "      <td>11142.85</td>\n",
       "      <td>0.0</td>\n",
       "      <td>3232.16</td>\n",
       "      <td>3232.16</td>\n",
       "      <td>0.00</td>\n",
       "      <td>0.0</td>\n",
       "      <td>organic</td>\n",
       "      <td>2016</td>\n",
       "      <td>SanFrancisco</td>\n",
       "    </tr>\n",
       "    <tr>\n",
       "      <th>17428</th>\n",
       "      <td>37</td>\n",
       "      <td>2017-04-16</td>\n",
       "      <td>3.17</td>\n",
       "      <td>3018.56</td>\n",
       "      <td>1255.55</td>\n",
       "      <td>82.31</td>\n",
       "      <td>0.0</td>\n",
       "      <td>1680.70</td>\n",
       "      <td>1542.22</td>\n",
       "      <td>138.48</td>\n",
       "      <td>0.0</td>\n",
       "      <td>organic</td>\n",
       "      <td>2017</td>\n",
       "      <td>Tampa</td>\n",
       "    </tr>\n",
       "    <tr>\n",
       "      <th>18116</th>\n",
       "      <td>11</td>\n",
       "      <td>2018-01-07</td>\n",
       "      <td>2.30</td>\n",
       "      <td>20151.24</td>\n",
       "      <td>10165.34</td>\n",
       "      <td>8042.56</td>\n",
       "      <td>0.0</td>\n",
       "      <td>1943.34</td>\n",
       "      <td>1943.34</td>\n",
       "      <td>0.00</td>\n",
       "      <td>0.0</td>\n",
       "      <td>organic</td>\n",
       "      <td>2018</td>\n",
       "      <td>SanFrancisco</td>\n",
       "    </tr>\n",
       "  </tbody>\n",
       "</table>\n",
       "</div>"
      ],
      "text/plain": [
       "       Unnamed: 0        Date  AveragePrice  Total Volume      4046      4225  \\\n",
       "11320          10  2015-10-18          2.79      12642.11    961.55  11680.56   \n",
       "14125           8  2016-10-30          3.25      16700.94   2325.93  11142.85   \n",
       "17428          37  2017-04-16          3.17       3018.56   1255.55     82.31   \n",
       "18116          11  2018-01-07          2.30      20151.24  10165.34   8042.56   \n",
       "\n",
       "       4770  Total Bags  Small Bags  Large Bags  XLarge Bags     type  year  \\\n",
       "11320   0.0        0.00        0.00        0.00          0.0  organic  2015   \n",
       "14125   0.0     3232.16     3232.16        0.00          0.0  organic  2016   \n",
       "17428   0.0     1680.70     1542.22      138.48          0.0  organic  2017   \n",
       "18116   0.0     1943.34     1943.34        0.00          0.0  organic  2018   \n",
       "\n",
       "             region  \n",
       "11320  SanFrancisco  \n",
       "14125  SanFrancisco  \n",
       "17428         Tampa  \n",
       "18116  SanFrancisco  "
      ]
     },
     "execution_count": 4,
     "metadata": {},
     "output_type": "execute_result"
    }
   ],
   "source": [
    "#Precios máximos por año en tabla\n",
    "idx = df.groupby(lambda x: df['year'][x])[\"AveragePrice\"].idxmax()\n",
    "\n",
    "df.loc[idx]"
   ]
  },
  {
   "cell_type": "markdown",
   "id": "5f08e467",
   "metadata": {},
   "source": [
    "###### Gráficas"
   ]
  },
  {
   "cell_type": "markdown",
   "id": "c9061c68",
   "metadata": {},
   "source": [
    "Por último, se graficará una tabla que demuestre alguna correlación entre variables, como lo será el caso de el precio en promedio por año."
   ]
  },
  {
   "cell_type": "code",
   "execution_count": 5,
   "id": "fa368bcd",
   "metadata": {},
   "outputs": [
    {
     "name": "stdout",
     "output_type": "stream",
     "text": [
      "year\n",
      "2015    2.79\n",
      "2016    3.25\n",
      "2017    3.17\n",
      "2018    2.30\n",
      "Name: AveragePrice, dtype: float64\n"
     ]
    }
   ],
   "source": [
    "#Precios máximos por año en lista\n",
    "averageList = df.groupby(df.year)['AveragePrice'].max()\n",
    "print(averageList)"
   ]
  },
  {
   "cell_type": "code",
   "execution_count": 6,
   "id": "9fdea691",
   "metadata": {
    "scrolled": true
   },
   "outputs": [
    {
     "data": {
      "text/html": [
       "<div>\n",
       "<style scoped>\n",
       "    .dataframe tbody tr th:only-of-type {\n",
       "        vertical-align: middle;\n",
       "    }\n",
       "\n",
       "    .dataframe tbody tr th {\n",
       "        vertical-align: top;\n",
       "    }\n",
       "\n",
       "    .dataframe thead th {\n",
       "        text-align: right;\n",
       "    }\n",
       "</style>\n",
       "<table border=\"1\" class=\"dataframe\">\n",
       "  <thead>\n",
       "    <tr style=\"text-align: right;\">\n",
       "      <th></th>\n",
       "      <th>Unnamed: 0</th>\n",
       "      <th>Date</th>\n",
       "      <th>AveragePrice</th>\n",
       "      <th>Total Volume</th>\n",
       "      <th>4046</th>\n",
       "      <th>4225</th>\n",
       "      <th>4770</th>\n",
       "      <th>Total Bags</th>\n",
       "      <th>Small Bags</th>\n",
       "      <th>Large Bags</th>\n",
       "      <th>XLarge Bags</th>\n",
       "      <th>type</th>\n",
       "      <th>year</th>\n",
       "      <th>region</th>\n",
       "    </tr>\n",
       "  </thead>\n",
       "  <tbody>\n",
       "    <tr>\n",
       "      <th>1716</th>\n",
       "      <td>0</td>\n",
       "      <td>2015-12-27</td>\n",
       "      <td>0.49</td>\n",
       "      <td>1137707.43</td>\n",
       "      <td>738314.80</td>\n",
       "      <td>286858.37</td>\n",
       "      <td>11642.46</td>\n",
       "      <td>100891.80</td>\n",
       "      <td>70749.02</td>\n",
       "      <td>30142.78</td>\n",
       "      <td>0.00</td>\n",
       "      <td>conventional</td>\n",
       "      <td>2015</td>\n",
       "      <td>PhoenixTucson</td>\n",
       "    </tr>\n",
       "    <tr>\n",
       "      <th>4566</th>\n",
       "      <td>42</td>\n",
       "      <td>2016-03-06</td>\n",
       "      <td>0.51</td>\n",
       "      <td>1442973.47</td>\n",
       "      <td>1037699.01</td>\n",
       "      <td>259846.68</td>\n",
       "      <td>14567.40</td>\n",
       "      <td>130860.38</td>\n",
       "      <td>76814.40</td>\n",
       "      <td>54045.98</td>\n",
       "      <td>0.00</td>\n",
       "      <td>conventional</td>\n",
       "      <td>2016</td>\n",
       "      <td>PhoenixTucson</td>\n",
       "    </tr>\n",
       "    <tr>\n",
       "      <th>15261</th>\n",
       "      <td>43</td>\n",
       "      <td>2017-03-05</td>\n",
       "      <td>0.44</td>\n",
       "      <td>64057.04</td>\n",
       "      <td>223.84</td>\n",
       "      <td>4748.88</td>\n",
       "      <td>0.00</td>\n",
       "      <td>59084.32</td>\n",
       "      <td>638.68</td>\n",
       "      <td>58445.64</td>\n",
       "      <td>0.00</td>\n",
       "      <td>organic</td>\n",
       "      <td>2017</td>\n",
       "      <td>CincinnatiDayton</td>\n",
       "    </tr>\n",
       "    <tr>\n",
       "      <th>8694</th>\n",
       "      <td>0</td>\n",
       "      <td>2018-03-25</td>\n",
       "      <td>0.56</td>\n",
       "      <td>2120511.03</td>\n",
       "      <td>837700.97</td>\n",
       "      <td>162473.38</td>\n",
       "      <td>4190.48</td>\n",
       "      <td>1116146.20</td>\n",
       "      <td>952254.70</td>\n",
       "      <td>161188.17</td>\n",
       "      <td>2703.33</td>\n",
       "      <td>conventional</td>\n",
       "      <td>2018</td>\n",
       "      <td>Houston</td>\n",
       "    </tr>\n",
       "  </tbody>\n",
       "</table>\n",
       "</div>"
      ],
      "text/plain": [
       "       Unnamed: 0        Date  AveragePrice  Total Volume        4046  \\\n",
       "1716            0  2015-12-27          0.49    1137707.43   738314.80   \n",
       "4566           42  2016-03-06          0.51    1442973.47  1037699.01   \n",
       "15261          43  2017-03-05          0.44      64057.04      223.84   \n",
       "8694            0  2018-03-25          0.56    2120511.03   837700.97   \n",
       "\n",
       "            4225      4770  Total Bags  Small Bags  Large Bags  XLarge Bags  \\\n",
       "1716   286858.37  11642.46   100891.80    70749.02    30142.78         0.00   \n",
       "4566   259846.68  14567.40   130860.38    76814.40    54045.98         0.00   \n",
       "15261    4748.88      0.00    59084.32      638.68    58445.64         0.00   \n",
       "8694   162473.38   4190.48  1116146.20   952254.70   161188.17      2703.33   \n",
       "\n",
       "               type  year            region  \n",
       "1716   conventional  2015     PhoenixTucson  \n",
       "4566   conventional  2016     PhoenixTucson  \n",
       "15261       organic  2017  CincinnatiDayton  \n",
       "8694   conventional  2018           Houston  "
      ]
     },
     "execution_count": 6,
     "metadata": {},
     "output_type": "execute_result"
    }
   ],
   "source": [
    "#Precios minimos por año en tabla\n",
    "idxMin = df.groupby(lambda x: df['year'][x])[\"AveragePrice\"].idxmin()\n",
    "\n",
    "df.loc[idxMin]"
   ]
  },
  {
   "cell_type": "code",
   "execution_count": 7,
   "id": "94cc5f28",
   "metadata": {},
   "outputs": [
    {
     "name": "stdout",
     "output_type": "stream",
     "text": [
      "year\n",
      "2015    0.49\n",
      "2016    0.51\n",
      "2017    0.44\n",
      "2018    0.56\n",
      "Name: AveragePrice, dtype: float64\n"
     ]
    }
   ],
   "source": [
    "#Precios minimos por año en lista\n",
    "averageListMin = df.groupby(df.year)['AveragePrice'].min()\n",
    "print(averageListMin)"
   ]
  },
  {
   "cell_type": "markdown",
   "id": "9b5e4439",
   "metadata": {},
   "source": [
    "Preparar datos para hacer gráfica"
   ]
  },
  {
   "cell_type": "code",
   "execution_count": 8,
   "id": "c11504c0",
   "metadata": {},
   "outputs": [],
   "source": [
    "minAveragePrice = list(averageListMin)\n",
    "maxAveragePrice = list(averageList)"
   ]
  },
  {
   "cell_type": "markdown",
   "id": "634dc10e",
   "metadata": {},
   "source": [
    "Graficar"
   ]
  },
  {
   "cell_type": "code",
   "execution_count": 9,
   "id": "72fd9e94",
   "metadata": {},
   "outputs": [
    {
     "data": {
      "image/png": "[encoded data removed]",
      "text/plain": [
       "<Figure size 1200x800 with 1 Axes>"
      ]
     },
     "metadata": {},
     "output_type": "display_data"
    }
   ],
   "source": [
    "#data = [minAveragePrice, maxAveragePrice]\n",
    "# set width of bar\n",
    "barWidth = 0.25\n",
    "fig = plt.subplots(figsize =(12, 8))\n",
    " \n",
    "# Set position of bar on X axis\n",
    "br1 = np.arange(len(minAveragePrice))\n",
    "br2 = [x + barWidth for x in br1]\n",
    " \n",
    "# Make the plot\n",
    "plt.bar(br1, minAveragePrice, color ='r', width = barWidth,\n",
    "        edgecolor ='grey', label ='Min average price')\n",
    "plt.bar(br2, maxAveragePrice, color ='b', width = barWidth,\n",
    "        edgecolor ='grey', label ='Max average price')\n",
    " \n",
    "# Adding Xticks\n",
    "plt.xlabel('Años', fontweight ='bold', fontsize = 15)\n",
    "plt.ylabel('Average Price', fontweight ='bold', fontsize = 15)\n",
    "plt.xticks([r + barWidth for r in range(len(minAveragePrice))],\n",
    "        ['2015', '2016', '2017', '2018'])\n",
    " \n",
    "plt.legend()\n",
    "plt.show()"
   ]
  },
  {
   "cell_type": "markdown",
   "id": "80254505",
   "metadata": {},
   "source": [
    "### 4. Basándose en la media, mediana y desviación estándar de cada variable, ¿Qué conclusiones puedes entregar de los datos?"
   ]
  },
  {
   "cell_type": "markdown",
   "id": "40fbe123",
   "metadata": {},
   "source": []
  },
  {
   "cell_type": "code",
   "execution_count": 10,
   "id": "34112399",
   "metadata": {},
   "outputs": [
    {
     "name": "stdout",
     "output_type": "stream",
     "text": [
      "Media, desviación estandar y mediana: \n"
     ]
    },
    {
     "data": {
      "text/html": [
       "<div>\n",
       "<style scoped>\n",
       "    .dataframe tbody tr th:only-of-type {\n",
       "        vertical-align: middle;\n",
       "    }\n",
       "\n",
       "    .dataframe tbody tr th {\n",
       "        vertical-align: top;\n",
       "    }\n",
       "\n",
       "    .dataframe thead th {\n",
       "        text-align: right;\n",
       "    }\n",
       "</style>\n",
       "<table border=\"1\" class=\"dataframe\">\n",
       "  <thead>\n",
       "    <tr style=\"text-align: right;\">\n",
       "      <th></th>\n",
       "      <th>Unnamed: 0</th>\n",
       "      <th>AveragePrice</th>\n",
       "      <th>Total Volume</th>\n",
       "      <th>4046</th>\n",
       "      <th>4225</th>\n",
       "      <th>4770</th>\n",
       "      <th>Total Bags</th>\n",
       "      <th>Small Bags</th>\n",
       "      <th>Large Bags</th>\n",
       "      <th>XLarge Bags</th>\n",
       "      <th>year</th>\n",
       "    </tr>\n",
       "  </thead>\n",
       "  <tbody>\n",
       "    <tr>\n",
       "      <th>mean</th>\n",
       "      <td>24.232232</td>\n",
       "      <td>1.405978</td>\n",
       "      <td>8.506440e+05</td>\n",
       "      <td>2.930084e+05</td>\n",
       "      <td>2.951546e+05</td>\n",
       "      <td>22839.735993</td>\n",
       "      <td>239639.202060</td>\n",
       "      <td>182194.686696</td>\n",
       "      <td>54338.088145</td>\n",
       "      <td>3106.426507</td>\n",
       "      <td>2016.147899</td>\n",
       "    </tr>\n",
       "    <tr>\n",
       "      <th>std</th>\n",
       "      <td>15.481045</td>\n",
       "      <td>0.402677</td>\n",
       "      <td>3.453545e+06</td>\n",
       "      <td>1.264989e+06</td>\n",
       "      <td>1.204120e+06</td>\n",
       "      <td>107464.068435</td>\n",
       "      <td>986242.399216</td>\n",
       "      <td>746178.514962</td>\n",
       "      <td>243965.964547</td>\n",
       "      <td>17692.894652</td>\n",
       "      <td>0.939938</td>\n",
       "    </tr>\n",
       "    <tr>\n",
       "      <th>mean</th>\n",
       "      <td>24.000000</td>\n",
       "      <td>1.370000</td>\n",
       "      <td>1.073768e+05</td>\n",
       "      <td>8.645300e+03</td>\n",
       "      <td>2.906102e+04</td>\n",
       "      <td>184.990000</td>\n",
       "      <td>39743.830000</td>\n",
       "      <td>26362.820000</td>\n",
       "      <td>2647.710000</td>\n",
       "      <td>0.000000</td>\n",
       "      <td>2016.000000</td>\n",
       "    </tr>\n",
       "  </tbody>\n",
       "</table>\n",
       "</div>"
      ],
      "text/plain": [
       "      Unnamed: 0  AveragePrice  Total Volume          4046          4225  \\\n",
       "mean   24.232232      1.405978  8.506440e+05  2.930084e+05  2.951546e+05   \n",
       "std    15.481045      0.402677  3.453545e+06  1.264989e+06  1.204120e+06   \n",
       "mean   24.000000      1.370000  1.073768e+05  8.645300e+03  2.906102e+04   \n",
       "\n",
       "               4770     Total Bags     Small Bags     Large Bags  \\\n",
       "mean   22839.735993  239639.202060  182194.686696   54338.088145   \n",
       "std   107464.068435  986242.399216  746178.514962  243965.964547   \n",
       "mean     184.990000   39743.830000   26362.820000    2647.710000   \n",
       "\n",
       "       XLarge Bags         year  \n",
       "mean   3106.426507  2016.147899  \n",
       "std   17692.894652     0.939938  \n",
       "mean      0.000000  2016.000000  "
      ]
     },
     "execution_count": 10,
     "metadata": {},
     "output_type": "execute_result"
    }
   ],
   "source": [
    "median = df.median(numeric_only=True)\n",
    "medianDF = pd.DataFrame([median], columns=median.index)\n",
    "\n",
    "desc = df.describe().loc[['mean','std']]\n",
    "\n",
    "print(\"Media, desviación estandar y mediana: \")\n",
    "newDF = pd.concat([desc, medianDF])\n",
    "newDF.rename(index={0: \"mean\", 1: \"std\", 2: \"median\"})"
   ]
  },
  {
   "cell_type": "markdown",
   "id": "566d267c",
   "metadata": {},
   "source": [
    "Los datos permiten encontrar varias particularidades así como también permiten hacer predicciones tomando en cuenta la información presentada. Un análisis más a profundidad podría revelar tendencias que por ahora son desconodias."
   ]
  }
 ],
 "metadata": {
  "kernelspec": {
   "display_name": "Python 3 (ipykernel)",
   "language": "python",
   "name": "python3"
  },
  "language_info": {
   "codemirror_mode": {
    "name": "ipython",
    "version": 3
   },
   "file_extension": ".py",
   "mimetype": "text/x-python",
   "name": "python",
   "nbconvert_exporter": "python",
   "pygments_lexer": "ipython3",
   "version": "3.10.9"
  }
 },
 "nbformat": 4,
 "nbformat_minor": 5
}
